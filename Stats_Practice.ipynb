{
 "cells": [
  {
   "cell_type": "markdown",
   "metadata": {},
   "source": [
    "Greg was 14, Marcia was 12, Peter was 11, Jan was 10, Bobby was 8, and Cindy was 6 when they started playing the Brady kids on The Brady Bunch. Cousin Oliver was 8 years old when he joined the show. What are the mean, median, and mode of the kids' ages when they first appeared on the show? What are the variance, standard deviation, and standard error?\n",
    "\n",
    "Mean = (14+12+11+10+8+6+8)/7 = 9.86\n",
    "\n",
    "Median = 10\n",
    "\n",
    "Mode = 8\n",
    "\n",
    "Variance = ((14-9.86)**2 + (12-9.86)**2 + (11-9.86)**2 + (10-9.86)**2 + (8-9.86)**2 + (6-9.86)**2) +  (8-9.86)/ (7-1) = 7.47\n",
    "\n",
    "Standard deviation = 7.47**0.5 = 2.73\n",
    "\n",
    "Standard Error = 2.73/(7**0.5) = 1.033\n"
   ]
  },
  {
   "cell_type": "code",
   "execution_count": 63,
   "metadata": {},
   "outputs": [
    {
     "name": "stdout",
     "output_type": "stream",
     "text": [
      "Mode: 8\n",
      "Mean:  9.85714285714\n",
      "Median:  10.0\n",
      "Variance: 6.40816326531\n",
      "STD: 2.53143502095\n",
      "STD Error: 1.03345401972\n"
     ]
    }
   ],
   "source": [
    "import numpy as np\n",
    "import pandas as pd\n",
    "import statistics as st\n",
    "\n",
    "\"\"\"names = ['Greg',\n",
    "         'Marcia',\n",
    "         'Peter',\n",
    "         'Jan',\n",
    "         'Bobby',\n",
    "         'Cindy',\n",
    "         'Oliver']\"\"\"\n",
    "\n",
    "def data_ages(ages):\n",
    "    try:\n",
    "        print('Mode:',st.mode(ages))\n",
    "        print('Mean: ',np.mean(ages)) \n",
    "        print('Median: ',np.median(ages))\n",
    "        print('Variance:',np.var(ages))\n",
    "        print('STD:',np.std(ages))\n",
    "        print('STD Error:',np.std(ages,ddof=1)/np.sqrt(len(ages)))\n",
    "    except ValueError:\n",
    "        (values, counts) = np.unique(ages, return_counts=True)\n",
    "        ind = np.argmax(counts)\n",
    "        print('Mode: ',values[ind])\n",
    "        print('Mean: ',np.mean(ages)) \n",
    "        print('Median: ',np.median(ages))\n",
    "        print('Variance:',np.var(ages))\n",
    "        print('STD:',np.std(ages))\n",
    "        print('STD Error:',np.std(ages,ddof=1)/np.sqrt(len(ages)))\n",
    "        \n",
    "age = [14,12,11,10,8,6,8]\n",
    "data_ages(age)\n",
    "\n",
    "\"\"\"df = pd.DataFrame(index=names)\n",
    "df['Age'] = [14,12,11,10,8,6,8]\n",
    "print('Mean:',df.Age.mean()) \n",
    "print('Median:',df.Age.median())\n",
    "print('Mode:',df.Age.mode())\n",
    "print('Variance:',df.Age.var())\n",
    "print('STD:',df.Age.std())\n",
    "print('STD Error:',np.std(df['Age'] ,ddof=1) / np.sqrt(len(df['Age'])))\"\"\"\n",
    "\n"
   ]
  },
  {
   "cell_type": "markdown",
   "metadata": {},
   "source": [
    "Central Tendancy will be 11"
   ]
  },
  {
   "cell_type": "code",
   "execution_count": 64,
   "metadata": {},
   "outputs": [
    {
     "name": "stdout",
     "output_type": "stream",
     "text": [
      "Mode: 8\n",
      "Mean:  10.0\n",
      "Median:  10.0\n",
      "Variance: 5.42857142857\n",
      "STD: 2.32992949004\n",
      "STD Error: 0.951189731211\n"
     ]
    }
   ],
   "source": [
    "age1 = [14,12,11,10,8,7,8]\n",
    "data_ages(age1)"
   ]
  },
  {
   "cell_type": "code",
   "execution_count": 65,
   "metadata": {},
   "outputs": [
    {
     "name": "stdout",
     "output_type": "stream",
     "text": [
      "Mode:  1\n",
      "Mean:  9.0\n",
      "Median:  10.0\n",
      "Variance: 15.4285714286\n",
      "STD: 3.92792202425\n",
      "STD Error: 1.60356745147\n"
     ]
    }
   ],
   "source": [
    "age2 = [14,12,11,10,8,7,1]\n",
    "data_ages(age2)"
   ]
  }
 ],
 "metadata": {
  "kernelspec": {
   "display_name": "Python 3",
   "language": "python",
   "name": "python3"
  },
  "language_info": {
   "codemirror_mode": {
    "name": "ipython",
    "version": 3
   },
   "file_extension": ".py",
   "mimetype": "text/x-python",
   "name": "python",
   "nbconvert_exporter": "python",
   "pygments_lexer": "ipython3",
   "version": "3.6.3"
  }
 },
 "nbformat": 4,
 "nbformat_minor": 2
}
