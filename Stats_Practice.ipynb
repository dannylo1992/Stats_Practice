{
 "cells": [
  {
   "cell_type": "markdown",
   "metadata": {},
   "source": [
    "Greg was 14, Marcia was 12, Peter was 11, Jan was 10, Bobby was 8, and Cindy was 6 when they started playing the Brady kids on The Brady Bunch. Cousin Oliver was 8 years old when he joined the show. What are the mean, median, and mode of the kids' ages when they first appeared on the show? What are the variance, standard deviation, and standard error?\n",
    "\n",
    "Mean = (14+12+11+10+8+6+8)/7 = 9.86\n",
    "\n",
    "Median = 10\n",
    "\n",
    "Mode = 8\n",
    "\n",
    "Variance = ((14-9.86)**2 + (12-9.86)**2 + (11-9.86)**2 + (10-9.86)**2 + (8-9.86)**2 + (6-9.86)**2) +  (8-9.86)/ (7-1) = 7.47\n",
    "\n",
    "Standard deviation = 7.47**0.5 = 2.73\n",
    "\n",
    "Standard Error = 2.73/(7**0.5) = 1.033\n"
   ]
  },
  {
   "cell_type": "code",
   "execution_count": 2,
   "metadata": {},
   "outputs": [
    {
     "name": "stdout",
     "output_type": "stream",
     "text": [
      "Mode: 8\n",
      "Mean:  9.85714285714\n",
      "Median:  10.0\n",
      "Variance: 6.40816326531\n",
      "STD: 2.53143502095\n",
      "STD Error: 1.03345401972\n"
     ]
    },
    {
     "data": {
      "text/plain": [
       "\"df = pd.DataFrame(index=names)\\ndf['Age'] = [14,12,11,10,8,6,8]\\nprint('Mean:',df.Age.mean()) \\nprint('Median:',df.Age.median())\\nprint('Mode:',df.Age.mode())\\nprint('Variance:',df.Age.var())\\nprint('STD:',df.Age.std())\\nprint('STD Error:',np.std(df['Age'] ,ddof=1) / np.sqrt(len(df['Age'])))\""
      ]
     },
     "execution_count": 2,
     "metadata": {},
     "output_type": "execute_result"
    }
   ],
   "source": [
    "import numpy as np\n",
    "import pandas as pd\n",
    "import statistics as st\n",
    "\n",
    "\"\"\"names = ['Greg',\n",
    "         'Marcia',\n",
    "         'Peter',\n",
    "         'Jan',\n",
    "         'Bobby',\n",
    "         'Cindy',\n",
    "         'Oliver']\"\"\"\n",
    "\n",
    "def data_ages(ages):\n",
    "    try:\n",
    "        print('Mode:',st.mode(ages))\n",
    "        print('Mean: ',np.mean(ages)) \n",
    "        print('Median: ',np.median(ages))\n",
    "        print('Variance:',np.var(ages))\n",
    "        print('STD:',np.std(ages))\n",
    "        print('STD Error:',np.std(ages,ddof=1)/np.sqrt(len(ages)))\n",
    "    except ValueError:\n",
    "        (values, counts) = np.unique(ages, return_counts=True)\n",
    "        ind = np.argmax(counts)\n",
    "        print('Mode: ',values[ind])\n",
    "        print('Mean: ',np.mean(ages)) \n",
    "        print('Median: ',np.median(ages))\n",
    "        print('Variance:',np.var(ages))\n",
    "        print('STD:',np.std(ages))\n",
    "        print('STD Error:',np.std(ages,ddof=1)/np.sqrt(len(ages)))\n",
    "        \n",
    "age = [14,12,11,10,8,6,8]\n",
    "data_ages(age)\n",
    "\n",
    "\"\"\"df = pd.DataFrame(index=names)\n",
    "df['Age'] = [14,12,11,10,8,6,8]\n",
    "print('Mean:',df.Age.mean()) \n",
    "print('Median:',df.Age.median())\n",
    "print('Mode:',df.Age.mode())\n",
    "print('Variance:',df.Age.var())\n",
    "print('STD:',df.Age.std())\n",
    "print('STD Error:',np.std(df['Age'] ,ddof=1) / np.sqrt(len(df['Age'])))\"\"\"\n",
    "\n"
   ]
  },
  {
   "cell_type": "markdown",
   "metadata": {},
   "source": [
    "Central Tendancy will be 11"
   ]
  },
  {
   "cell_type": "code",
   "execution_count": 3,
   "metadata": {},
   "outputs": [
    {
     "name": "stdout",
     "output_type": "stream",
     "text": [
      "Mode: 8\n",
      "Mean:  10.0\n",
      "Median:  10.0\n",
      "Variance: 5.42857142857\n",
      "STD: 2.32992949004\n",
      "STD Error: 0.951189731211\n"
     ]
    }
   ],
   "source": [
    "age1 = [14,12,11,10,8,7,8]\n",
    "data_ages(age1)"
   ]
  },
  {
   "cell_type": "code",
   "execution_count": 4,
   "metadata": {},
   "outputs": [
    {
     "name": "stdout",
     "output_type": "stream",
     "text": [
      "Mode:  1\n",
      "Mean:  9.0\n",
      "Median:  10.0\n",
      "Variance: 15.4285714286\n",
      "STD: 3.92792202425\n",
      "STD Error: 1.60356745147\n"
     ]
    }
   ],
   "source": [
    "age2 = [14,12,11,10,8,7,1]\n",
    "data_ages(age2)"
   ]
  },
  {
   "cell_type": "markdown",
   "metadata": {},
   "source": [
    "DRILL - Exercises in Probability\n",
    "1. Calculate the probability of flipping a balanced coin four times and getting each pattern: HTTH, HHHH and TTHH. \n",
    "0.50.50.5*0.5 = 0.0625 probability of all three are the same since this is a balanced coin\n",
    "\n",
    "2. If a list of people has 24 women and 21 men, then the probability of choosing a man from the list is 21/45. What is the probability of not choosing a man? \n",
    "24/45\n",
    "\n",
    "3. The probability that Bernice will travel by plane sometime in the next year is 10%. The probability of a plane crash at any time is .005%. What is the probability that Bernice will be in a plane crash sometime in the next year? \n",
    "= 0.1*0.00005 = 0.000005\n",
    "\n",
    "4. A data scientist wants to study the behavior of users on the company website. Each time a user clicks on a link on the website, there is a 5% chance that the user will be asked to complete a short survey about their behavior on the website. The data scientist uses the survey data to conclude that, on average, users spend 15 minutes surfing the company website before moving on to other things. What is wrong with this conclusion?\n",
    "\n",
    "The longer the user stays on the website, the higher the probability of the user getting asked to complete a survey. Hence the data is skewed towards people that have surfed the web more. Solution: 5% chance of survey when the company website is initially opened. To elimnate the bias for people that have been on longer."
   ]
  },
  {
   "cell_type": "markdown",
   "metadata": {},
   "source": [
    "Drill - Exercises in Bayes' Rule\n",
    "Now it's time to use Bayes' rule to compute some conditional probabilities. First look over the numbers and estimate each of the four probabilities, using your intuition. Then, calculate the probabilities using Bayes' rule. Keep track of your work in a Google document or markdown file that you can share with your mentor.\n",
    "\n",
    "A diagnostic test has a 98% probability of giving a positive result when applied to a person suffering from Thripshaw's Disease, and 10% probability of giving a (false) positive when applied to a non-sufferer. It is estimated that 0.5 % of the population are sufferers. Suppose that the test is now administered to a person whose disease status is unknown. Calculate the probability that the test will:\n",
    "\n",
    "1. Be positive\n",
    "Attempt: 0.005*0.98 = 0.0049\n",
    "Answer: 0.005*0.98 + 0.1*0.995 = 0.1044\n",
    "Forgot to inclucde the probability of getting false positive\n",
    "2. Correctly diagnose a sufferer of Thripshaw's\n",
    "Attempt:0.005*0.98 + 0.9*0.995 = 0.9004\n",
    "Answer: 0.98\n",
    "It is in the prompt you stupid.....\n",
    "3. Correctly identify a non-sufferer of Thripshaw's\n",
    "Attempt: 0.9\n",
    "Answer: 0.9\n",
    "4. Misclassify the person\n",
    "Attempt: 0.005*0.98 + 0.9*0.995 = 0.9004\n",
    "Answer: It is the opposite...1-(0.9004)\n"
   ]
  },
  {
   "cell_type": "markdown",
   "metadata": {},
   "source": [
    "Data Source: Amsterdam availability data scraped from AirBnB on December 24th. Question: What are the popular neighborhoods in Amsterdam?\n",
    "\n",
    "The popular neighborhood will not be accurate due to majority of the vacation rentals from the US. The data will include very little asian population. \n",
    "\n",
    "Data Source: Mental health services use on September 12, 2001 in San Francisco, CA and New York City, NY. Question: How do patterns of mental health service use vary between cities?\n",
    "\n",
    "Not accurate due to 911.\n",
    "\n",
    "Data Source: Armenian Pub Survey. Question: What are the most common reasons Armenians visit local pubs?\n",
    "\n",
    "Majority of the data is collected from students and most of the data is skewed toward \"hang out with friends\". The main crowd is usually younger with lower income. "
   ]
  }
 ],
 "metadata": {
  "kernelspec": {
   "display_name": "Python 3",
   "language": "python",
   "name": "python3"
  },
  "language_info": {
   "codemirror_mode": {
    "name": "ipython",
    "version": 3
   },
   "file_extension": ".py",
   "mimetype": "text/x-python",
   "name": "python",
   "nbconvert_exporter": "python",
   "pygments_lexer": "ipython3",
   "version": "3.6.3"
  }
 },
 "nbformat": 4,
 "nbformat_minor": 2
}
